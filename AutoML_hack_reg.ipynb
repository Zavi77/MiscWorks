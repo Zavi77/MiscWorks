{
  "nbformat": 4,
  "nbformat_minor": 0,
  "metadata": {
    "colab": {
      "name": "AutoML_hack_reg.ipynb",
      "provenance": []
    },
    "kernelspec": {
      "name": "python3",
      "display_name": "Python 3"
    },
    "language_info": {
      "name": "python"
    }
  },
  "cells": [
    {
      "cell_type": "code",
      "metadata": {
        "colab": {
          "base_uri": "https://localhost:8080/"
        },
        "id": "ybpRZsiJo6yg",
        "outputId": "9092856d-9d8a-402b-d31c-6fe55d5c4083"
      },
      "source": [
        "from google.colab import drive\n",
        "drive.mount('/content/drive')"
      ],
      "execution_count": 1,
      "outputs": [
        {
          "output_type": "stream",
          "text": [
            "Mounted at /content/drive\n"
          ],
          "name": "stdout"
        }
      ]
    },
    {
      "cell_type": "code",
      "metadata": {
        "id": "E6hk3-FupMwP"
      },
      "source": [
        "! pip install -U lightautoml"
      ],
      "execution_count": null,
      "outputs": []
    },
    {
      "cell_type": "code",
      "metadata": {
        "colab": {
          "base_uri": "https://localhost:8080/"
        },
        "id": "vhErMLNnpV7V",
        "outputId": "65c2e247-0168-4a2a-da28-38bae24bfabc"
      },
      "source": [
        "import logging\n",
        "import os\n",
        "import time\n",
        "import requests\n",
        "logging.basicConfig(format='[%(asctime)s] (%(levelname)s): %(message)s', level=logging.INFO)\n",
        "\n",
        "# Installed libraries\n",
        "import numpy as np\n",
        "import pandas as pd\n",
        "from sklearn.metrics import roc_auc_score\n",
        "from sklearn.model_selection import train_test_split\n",
        "import torch\n",
        "\n",
        "# Imports from our package\n",
        "from lightautoml.automl.base import AutoML\n",
        "from lightautoml.ml_algo.boost_lgbm import BoostLGBM\n",
        "from lightautoml.ml_algo.tuning.optuna import OptunaTuner\n",
        "from lightautoml.pipelines.features.lgb_pipeline import LGBSimpleFeatures\n",
        "from lightautoml.pipelines.ml.base import MLPipeline\n",
        "from lightautoml.pipelines.selection.importance_based import ImportanceCutoffSelector, ModelBasedImportanceEstimator\n",
        "from lightautoml.reader.base import PandasToPandasReader\n",
        "from lightautoml.tasks import Task\n",
        "from lightautoml.utils.profiler import Profiler\n",
        "from lightautoml.automl.blend import WeightedBlender"
      ],
      "execution_count": 4,
      "outputs": [
        {
          "output_type": "stream",
          "text": [
            "[2021-07-05 17:10:14,562] (INFO): 'pattern' package not found; tag filters are not available for English\n"
          ],
          "name": "stderr"
        }
      ]
    },
    {
      "cell_type": "code",
      "metadata": {
        "id": "D78SxNJ1pZ85"
      },
      "source": [
        "N_THREADS = 8 # threads cnt for lgbm and linear models\n",
        "N_FOLDS = 5 # folds cnt for AutoML\n",
        "RANDOM_STATE = 42 # fixed random state for various reasons\n",
        "TEST_SIZE = 0.2 # Test size for metric check\n",
        "TARGET_NAME = 'Price' # Target column name"
      ],
      "execution_count": 3,
      "outputs": []
    },
    {
      "cell_type": "code",
      "metadata": {
        "id": "NfnJKMhMpiEN"
      },
      "source": [
        "np.random.seed(RANDOM_STATE)\n",
        "torch.set_num_threads(N_THREADS)\n",
        "p = Profiler()\n",
        "p.change_deco_settings({'enabled': True})"
      ],
      "execution_count": 5,
      "outputs": []
    },
    {
      "cell_type": "code",
      "metadata": {
        "id": "oG4OIa9_piG0"
      },
      "source": [
        "DATASET_DIR = '/content/drive/MyDrive/'\n",
        "DATASET_NAME = 'train.csv'\n",
        "DATASET_FULLNAME = os.path.join(DATASET_DIR, DATASET_NAME)"
      ],
      "execution_count": 6,
      "outputs": []
    },
    {
      "cell_type": "code",
      "metadata": {
        "colab": {
          "base_uri": "https://localhost:8080/"
        },
        "id": "eLbtRFOBprLD",
        "outputId": "4bfbd8d7-44cc-4283-9d98-ec54784c92d8"
      },
      "source": [
        "%%time\n",
        "\n",
        "if not os.path.exists(DATASET_FULLNAME):\n",
        "    os.makedirs(DATASET_DIR, exist_ok=True)\n",
        "\n",
        "    dataset = requests.get(DATASET_URL).text\n",
        "    with open(DATASET_FULLNAME, 'w') as output:\n",
        "        output.write(dataset)"
      ],
      "execution_count": 7,
      "outputs": [
        {
          "output_type": "stream",
          "text": [
            "CPU times: user 1.16 ms, sys: 26 µs, total: 1.18 ms\n",
            "Wall time: 4.66 ms\n"
          ],
          "name": "stdout"
        }
      ]
    },
    {
      "cell_type": "code",
      "metadata": {
        "colab": {
          "base_uri": "https://localhost:8080/"
        },
        "id": "M4vas45BprO9",
        "outputId": "94bd34bc-5784-4e9d-aa70-2a97389b69c8"
      },
      "source": [
        "\n",
        "%%time\n",
        "\n",
        "data = pd.read_csv(DATASET_FULLNAME)\n",
        "data.head()"
      ],
      "execution_count": 8,
      "outputs": [
        {
          "output_type": "stream",
          "text": [
            "CPU times: user 39 ms, sys: 19.4 ms, total: 58.4 ms\n",
            "Wall time: 315 ms\n"
          ],
          "name": "stdout"
        }
      ]
    },
    {
      "cell_type": "code",
      "metadata": {
        "colab": {
          "base_uri": "https://localhost:8080/",
          "height": 425
        },
        "id": "NDKetxJcpzK_",
        "outputId": "0698b3d6-81a2-4456-a8a0-14e321c89308"
      },
      "source": [
        "%%time\n",
        "\n",
        "train_data, test_data = train_test_split(data, \n",
        "                                         test_size=TEST_SIZE, \n",
        "                                         stratify=data[TARGET_NAME], \n",
        "                                         random_state=RANDOM_STATE)\n",
        "logging.info('Data splitted. Parts sizes: train_data = {}, test_data = {}'\n",
        "              .format(train_data.shape, test_data.shape))"
      ],
      "execution_count": 9,
      "outputs": [
        {
          "output_type": "error",
          "ename": "ValueError",
          "evalue": "ignored",
          "traceback": [
            "\u001b[0;31m---------------------------------------------------------------------------\u001b[0m",
            "\u001b[0;31mValueError\u001b[0m                                Traceback (most recent call last)",
            "\u001b[0;32m<ipython-input-9-db1a8406be5d>\u001b[0m in \u001b[0;36m<module>\u001b[0;34m()\u001b[0m\n\u001b[0;32m----> 1\u001b[0;31m \u001b[0mget_ipython\u001b[0m\u001b[0;34m(\u001b[0m\u001b[0;34m)\u001b[0m\u001b[0;34m.\u001b[0m\u001b[0mrun_cell_magic\u001b[0m\u001b[0;34m(\u001b[0m\u001b[0;34m'time'\u001b[0m\u001b[0;34m,\u001b[0m \u001b[0;34m''\u001b[0m\u001b[0;34m,\u001b[0m \u001b[0;34m\"\\ntrain_data, test_data = train_test_split(data, \\n                                         test_size=TEST_SIZE, \\n                                         stratify=data[TARGET_NAME], \\n                                         random_state=RANDOM_STATE)\\nlogging.info('Data splitted. Parts sizes: train_data = {}, test_data = {}'\\n              .format(train_data.shape, test_data.shape))\"\u001b[0m\u001b[0;34m)\u001b[0m\u001b[0;34m\u001b[0m\u001b[0;34m\u001b[0m\u001b[0m\n\u001b[0m",
            "\u001b[0;32m/usr/local/lib/python3.7/dist-packages/IPython/core/interactiveshell.py\u001b[0m in \u001b[0;36mrun_cell_magic\u001b[0;34m(self, magic_name, line, cell)\u001b[0m\n\u001b[1;32m   2115\u001b[0m             \u001b[0mmagic_arg_s\u001b[0m \u001b[0;34m=\u001b[0m \u001b[0mself\u001b[0m\u001b[0;34m.\u001b[0m\u001b[0mvar_expand\u001b[0m\u001b[0;34m(\u001b[0m\u001b[0mline\u001b[0m\u001b[0;34m,\u001b[0m \u001b[0mstack_depth\u001b[0m\u001b[0;34m)\u001b[0m\u001b[0;34m\u001b[0m\u001b[0;34m\u001b[0m\u001b[0m\n\u001b[1;32m   2116\u001b[0m             \u001b[0;32mwith\u001b[0m \u001b[0mself\u001b[0m\u001b[0;34m.\u001b[0m\u001b[0mbuiltin_trap\u001b[0m\u001b[0;34m:\u001b[0m\u001b[0;34m\u001b[0m\u001b[0;34m\u001b[0m\u001b[0m\n\u001b[0;32m-> 2117\u001b[0;31m                 \u001b[0mresult\u001b[0m \u001b[0;34m=\u001b[0m \u001b[0mfn\u001b[0m\u001b[0;34m(\u001b[0m\u001b[0mmagic_arg_s\u001b[0m\u001b[0;34m,\u001b[0m \u001b[0mcell\u001b[0m\u001b[0;34m)\u001b[0m\u001b[0;34m\u001b[0m\u001b[0;34m\u001b[0m\u001b[0m\n\u001b[0m\u001b[1;32m   2118\u001b[0m             \u001b[0;32mreturn\u001b[0m \u001b[0mresult\u001b[0m\u001b[0;34m\u001b[0m\u001b[0;34m\u001b[0m\u001b[0m\n\u001b[1;32m   2119\u001b[0m \u001b[0;34m\u001b[0m\u001b[0m\n",
            "\u001b[0;32m<decorator-gen-53>\u001b[0m in \u001b[0;36mtime\u001b[0;34m(self, line, cell, local_ns)\u001b[0m\n",
            "\u001b[0;32m/usr/local/lib/python3.7/dist-packages/IPython/core/magic.py\u001b[0m in \u001b[0;36m<lambda>\u001b[0;34m(f, *a, **k)\u001b[0m\n\u001b[1;32m    186\u001b[0m     \u001b[0;31m# but it's overkill for just that one bit of state.\u001b[0m\u001b[0;34m\u001b[0m\u001b[0;34m\u001b[0m\u001b[0;34m\u001b[0m\u001b[0m\n\u001b[1;32m    187\u001b[0m     \u001b[0;32mdef\u001b[0m \u001b[0mmagic_deco\u001b[0m\u001b[0;34m(\u001b[0m\u001b[0marg\u001b[0m\u001b[0;34m)\u001b[0m\u001b[0;34m:\u001b[0m\u001b[0;34m\u001b[0m\u001b[0;34m\u001b[0m\u001b[0m\n\u001b[0;32m--> 188\u001b[0;31m         \u001b[0mcall\u001b[0m \u001b[0;34m=\u001b[0m \u001b[0;32mlambda\u001b[0m \u001b[0mf\u001b[0m\u001b[0;34m,\u001b[0m \u001b[0;34m*\u001b[0m\u001b[0ma\u001b[0m\u001b[0;34m,\u001b[0m \u001b[0;34m**\u001b[0m\u001b[0mk\u001b[0m\u001b[0;34m:\u001b[0m \u001b[0mf\u001b[0m\u001b[0;34m(\u001b[0m\u001b[0;34m*\u001b[0m\u001b[0ma\u001b[0m\u001b[0;34m,\u001b[0m \u001b[0;34m**\u001b[0m\u001b[0mk\u001b[0m\u001b[0;34m)\u001b[0m\u001b[0;34m\u001b[0m\u001b[0;34m\u001b[0m\u001b[0m\n\u001b[0m\u001b[1;32m    189\u001b[0m \u001b[0;34m\u001b[0m\u001b[0m\n\u001b[1;32m    190\u001b[0m         \u001b[0;32mif\u001b[0m \u001b[0mcallable\u001b[0m\u001b[0;34m(\u001b[0m\u001b[0marg\u001b[0m\u001b[0;34m)\u001b[0m\u001b[0;34m:\u001b[0m\u001b[0;34m\u001b[0m\u001b[0;34m\u001b[0m\u001b[0m\n",
            "\u001b[0;32m/usr/local/lib/python3.7/dist-packages/IPython/core/magics/execution.py\u001b[0m in \u001b[0;36mtime\u001b[0;34m(self, line, cell, local_ns)\u001b[0m\n\u001b[1;32m   1191\u001b[0m         \u001b[0;32melse\u001b[0m\u001b[0;34m:\u001b[0m\u001b[0;34m\u001b[0m\u001b[0;34m\u001b[0m\u001b[0m\n\u001b[1;32m   1192\u001b[0m             \u001b[0mst\u001b[0m \u001b[0;34m=\u001b[0m \u001b[0mclock2\u001b[0m\u001b[0;34m(\u001b[0m\u001b[0;34m)\u001b[0m\u001b[0;34m\u001b[0m\u001b[0;34m\u001b[0m\u001b[0m\n\u001b[0;32m-> 1193\u001b[0;31m             \u001b[0mexec\u001b[0m\u001b[0;34m(\u001b[0m\u001b[0mcode\u001b[0m\u001b[0;34m,\u001b[0m \u001b[0mglob\u001b[0m\u001b[0;34m,\u001b[0m \u001b[0mlocal_ns\u001b[0m\u001b[0;34m)\u001b[0m\u001b[0;34m\u001b[0m\u001b[0;34m\u001b[0m\u001b[0m\n\u001b[0m\u001b[1;32m   1194\u001b[0m             \u001b[0mend\u001b[0m \u001b[0;34m=\u001b[0m \u001b[0mclock2\u001b[0m\u001b[0;34m(\u001b[0m\u001b[0;34m)\u001b[0m\u001b[0;34m\u001b[0m\u001b[0;34m\u001b[0m\u001b[0m\n\u001b[1;32m   1195\u001b[0m             \u001b[0mout\u001b[0m \u001b[0;34m=\u001b[0m \u001b[0;32mNone\u001b[0m\u001b[0;34m\u001b[0m\u001b[0;34m\u001b[0m\u001b[0m\n",
            "\u001b[0;32m<timed exec>\u001b[0m in \u001b[0;36m<module>\u001b[0;34m()\u001b[0m\n",
            "\u001b[0;32m/usr/local/lib/python3.7/dist-packages/sklearn/model_selection/_split.py\u001b[0m in \u001b[0;36mtrain_test_split\u001b[0;34m(*arrays, **options)\u001b[0m\n\u001b[1;32m   2141\u001b[0m                      random_state=random_state)\n\u001b[1;32m   2142\u001b[0m \u001b[0;34m\u001b[0m\u001b[0m\n\u001b[0;32m-> 2143\u001b[0;31m         \u001b[0mtrain\u001b[0m\u001b[0;34m,\u001b[0m \u001b[0mtest\u001b[0m \u001b[0;34m=\u001b[0m \u001b[0mnext\u001b[0m\u001b[0;34m(\u001b[0m\u001b[0mcv\u001b[0m\u001b[0;34m.\u001b[0m\u001b[0msplit\u001b[0m\u001b[0;34m(\u001b[0m\u001b[0mX\u001b[0m\u001b[0;34m=\u001b[0m\u001b[0marrays\u001b[0m\u001b[0;34m[\u001b[0m\u001b[0;36m0\u001b[0m\u001b[0;34m]\u001b[0m\u001b[0;34m,\u001b[0m \u001b[0my\u001b[0m\u001b[0;34m=\u001b[0m\u001b[0mstratify\u001b[0m\u001b[0;34m)\u001b[0m\u001b[0;34m)\u001b[0m\u001b[0;34m\u001b[0m\u001b[0;34m\u001b[0m\u001b[0m\n\u001b[0m\u001b[1;32m   2144\u001b[0m \u001b[0;34m\u001b[0m\u001b[0m\n\u001b[1;32m   2145\u001b[0m     return list(chain.from_iterable((_safe_indexing(a, train),\n",
            "\u001b[0;32m/usr/local/lib/python3.7/dist-packages/sklearn/model_selection/_split.py\u001b[0m in \u001b[0;36msplit\u001b[0;34m(self, X, y, groups)\u001b[0m\n\u001b[1;32m   1327\u001b[0m         \"\"\"\n\u001b[1;32m   1328\u001b[0m         \u001b[0mX\u001b[0m\u001b[0;34m,\u001b[0m \u001b[0my\u001b[0m\u001b[0;34m,\u001b[0m \u001b[0mgroups\u001b[0m \u001b[0;34m=\u001b[0m \u001b[0mindexable\u001b[0m\u001b[0;34m(\u001b[0m\u001b[0mX\u001b[0m\u001b[0;34m,\u001b[0m \u001b[0my\u001b[0m\u001b[0;34m,\u001b[0m \u001b[0mgroups\u001b[0m\u001b[0;34m)\u001b[0m\u001b[0;34m\u001b[0m\u001b[0;34m\u001b[0m\u001b[0m\n\u001b[0;32m-> 1329\u001b[0;31m         \u001b[0;32mfor\u001b[0m \u001b[0mtrain\u001b[0m\u001b[0;34m,\u001b[0m \u001b[0mtest\u001b[0m \u001b[0;32min\u001b[0m \u001b[0mself\u001b[0m\u001b[0;34m.\u001b[0m\u001b[0m_iter_indices\u001b[0m\u001b[0;34m(\u001b[0m\u001b[0mX\u001b[0m\u001b[0;34m,\u001b[0m \u001b[0my\u001b[0m\u001b[0;34m,\u001b[0m \u001b[0mgroups\u001b[0m\u001b[0;34m)\u001b[0m\u001b[0;34m:\u001b[0m\u001b[0;34m\u001b[0m\u001b[0;34m\u001b[0m\u001b[0m\n\u001b[0m\u001b[1;32m   1330\u001b[0m             \u001b[0;32myield\u001b[0m \u001b[0mtrain\u001b[0m\u001b[0;34m,\u001b[0m \u001b[0mtest\u001b[0m\u001b[0;34m\u001b[0m\u001b[0;34m\u001b[0m\u001b[0m\n\u001b[1;32m   1331\u001b[0m \u001b[0;34m\u001b[0m\u001b[0m\n",
            "\u001b[0;32m/usr/local/lib/python3.7/dist-packages/sklearn/model_selection/_split.py\u001b[0m in \u001b[0;36m_iter_indices\u001b[0;34m(self, X, y, groups)\u001b[0m\n\u001b[1;32m   1657\u001b[0m         \u001b[0mclass_counts\u001b[0m \u001b[0;34m=\u001b[0m \u001b[0mnp\u001b[0m\u001b[0;34m.\u001b[0m\u001b[0mbincount\u001b[0m\u001b[0;34m(\u001b[0m\u001b[0my_indices\u001b[0m\u001b[0;34m)\u001b[0m\u001b[0;34m\u001b[0m\u001b[0;34m\u001b[0m\u001b[0m\n\u001b[1;32m   1658\u001b[0m         \u001b[0;32mif\u001b[0m \u001b[0mnp\u001b[0m\u001b[0;34m.\u001b[0m\u001b[0mmin\u001b[0m\u001b[0;34m(\u001b[0m\u001b[0mclass_counts\u001b[0m\u001b[0;34m)\u001b[0m \u001b[0;34m<\u001b[0m \u001b[0;36m2\u001b[0m\u001b[0;34m:\u001b[0m\u001b[0;34m\u001b[0m\u001b[0;34m\u001b[0m\u001b[0m\n\u001b[0;32m-> 1659\u001b[0;31m             raise ValueError(\"The least populated class in y has only 1\"\n\u001b[0m\u001b[1;32m   1660\u001b[0m                              \u001b[0;34m\" member, which is too few. The minimum\"\u001b[0m\u001b[0;34m\u001b[0m\u001b[0;34m\u001b[0m\u001b[0m\n\u001b[1;32m   1661\u001b[0m                              \u001b[0;34m\" number of groups for any class cannot\"\u001b[0m\u001b[0;34m\u001b[0m\u001b[0;34m\u001b[0m\u001b[0m\n",
            "\u001b[0;31mValueError\u001b[0m: The least populated class in y has only 1 member, which is too few. The minimum number of groups for any class cannot be less than 2."
          ]
        }
      ]
    },
    {
      "cell_type": "code",
      "metadata": {
        "colab": {
          "base_uri": "https://localhost:8080/"
        },
        "id": "OcKGXQ79pzN8",
        "outputId": "7502d659-e049-4835-e600-759da091f3be"
      },
      "source": [
        "%%time\n",
        "\n",
        "task = Task('reg')\n",
        "reader = PandasToPandasReader(task, cv=N_FOLDS, random_state=RANDOM_STATE)"
      ],
      "execution_count": 13,
      "outputs": [
        {
          "output_type": "stream",
          "text": [
            "CPU times: user 5.03 ms, sys: 0 ns, total: 5.03 ms\n",
            "Wall time: 5.25 ms\n"
          ],
          "name": "stdout"
        }
      ]
    },
    {
      "cell_type": "code",
      "metadata": {
        "colab": {
          "base_uri": "https://localhost:8080/"
        },
        "id": "jw6ZkNXjpzQ-",
        "outputId": "971391e1-e0da-49ff-cbc7-0d47e227caa0"
      },
      "source": [
        "%%time\n",
        "\n",
        "model0 = BoostLGBM(\n",
        "    default_params={'learning_rate': 0.05, 'num_leaves': 64, 'seed': 42, 'num_threads': N_THREADS}\n",
        ")\n",
        "pipe0 = LGBSimpleFeatures()\n",
        "mbie = ModelBasedImportanceEstimator()\n",
        "selector = ImportanceCutoffSelector(pipe0, model0, mbie, cutoff=0)"
      ],
      "execution_count": 14,
      "outputs": [
        {
          "output_type": "stream",
          "text": [
            "Copying TaskTimer may affect the parent PipelineTimer, so copy will create new unlimited TaskTimer\n"
          ],
          "name": "stderr"
        },
        {
          "output_type": "stream",
          "text": [
            "CPU times: user 5.14 ms, sys: 525 µs, total: 5.67 ms\n",
            "Wall time: 10.9 ms\n"
          ],
          "name": "stdout"
        }
      ]
    },
    {
      "cell_type": "code",
      "metadata": {
        "colab": {
          "base_uri": "https://localhost:8080/"
        },
        "id": "S1TDoS0hqnTE",
        "outputId": "3316d54f-0cea-488c-c65d-8fb510df95c1"
      },
      "source": [
        "%%time \n",
        "\n",
        "pipe = LGBSimpleFeatures()\n",
        "\n",
        "params_tuner1 = OptunaTuner(n_trials=20, timeout=30) # stop after 20 iterations or after 30 seconds \n",
        "model1 = BoostLGBM(\n",
        "    default_params={'learning_rate': 0.05, 'num_leaves': 128, 'seed': 1, 'num_threads': N_THREADS}\n",
        ")\n",
        "model2 = BoostLGBM(\n",
        "    default_params={'learning_rate': 0.025, 'num_leaves': 64, 'seed': 2, 'num_threads': N_THREADS}\n",
        ")\n",
        "\n",
        "pipeline_lvl1 = MLPipeline([\n",
        "    (model1, params_tuner1),\n",
        "    model2\n",
        "], pre_selection=selector, features_pipeline=pipe, post_selection=None)"
      ],
      "execution_count": 15,
      "outputs": [
        {
          "output_type": "stream",
          "text": [
            "CPU times: user 1.5 ms, sys: 0 ns, total: 1.5 ms\n",
            "Wall time: 1.51 ms\n"
          ],
          "name": "stdout"
        }
      ]
    },
    {
      "cell_type": "code",
      "metadata": {
        "colab": {
          "base_uri": "https://localhost:8080/"
        },
        "id": "Tz9W6v4-qnVe",
        "outputId": "06969272-7190-4a5c-8b3f-645da668d161"
      },
      "source": [
        "%%time\n",
        "\n",
        "pipe1 = LGBSimpleFeatures()\n",
        "\n",
        "model = BoostLGBM(\n",
        "    default_params={'learning_rate': 0.05, 'num_leaves': 64, 'max_bin': 1024, 'seed': 3, 'num_threads': N_THREADS},\n",
        "    freeze_defaults=True\n",
        ")\n",
        "\n",
        "pipeline_lvl2 = MLPipeline([model], pre_selection=None, features_pipeline=pipe1, post_selection=None)"
      ],
      "execution_count": 17,
      "outputs": [
        {
          "output_type": "stream",
          "text": [
            "CPU times: user 2.42 ms, sys: 70 µs, total: 2.49 ms\n",
            "Wall time: 6.29 ms\n"
          ],
          "name": "stdout"
        }
      ]
    },
    {
      "cell_type": "code",
      "metadata": {
        "colab": {
          "base_uri": "https://localhost:8080/"
        },
        "id": "XEuPuAk3qzcJ",
        "outputId": "d83dc197-6d3b-4a69-a79f-772978955c48"
      },
      "source": [
        "%%time \n",
        "\n",
        "automl = AutoML(reader, [\n",
        "    [pipeline_lvl1],\n",
        "    [pipeline_lvl2],\n",
        "], skip_conn=False)"
      ],
      "execution_count": 18,
      "outputs": [
        {
          "output_type": "stream",
          "text": [
            "CPU times: user 1.5 ms, sys: 0 ns, total: 1.5 ms\n",
            "Wall time: 1.5 ms\n"
          ],
          "name": "stdout"
        }
      ]
    },
    {
      "cell_type": "code",
      "metadata": {
        "colab": {
          "base_uri": "https://localhost:8080/"
        },
        "id": "E838OIG5q20o",
        "outputId": "22148fce-e399-405a-fb68-3ac9531a3d44"
      },
      "source": [
        "%%time \n",
        "\n",
        "oof_pred = automl.fit_predict(data, roles={'target': TARGET_NAME})\n",
        "logging.info('oof_pred:\\n{}\\nShape = {}'.format(oof_pred, oof_pred.shape))"
      ],
      "execution_count": 20,
      "outputs": [
        {
          "output_type": "stream",
          "text": [
            "Train data shape: (19237, 18)\n"
          ],
          "name": "stdout"
        },
        {
          "output_type": "stream",
          "text": [
            "[2021-07-05 17:16:45,753] (INFO): NumExpr defaulting to 2 threads.\n"
          ],
          "name": "stderr"
        },
        {
          "output_type": "stream",
          "text": [
            "Feats was rejected during automatic roles guess: []\n",
            "\n",
            "\n",
            "Layer 1 ...\n",
            "Train process start. Time left 9999999985.052814 secs\n",
            "Start fitting LightGBM ...\n",
            "\n",
            "===== Start working with fold 0 for LightGBM =====\n",
            "\n",
            "Training until validation scores don't improve for 100 rounds\n",
            "[100]\tvalid's l2: 1.03352e+09\n",
            "Early stopping, best iteration is:\n",
            "[6]\tvalid's l2: 2.79388e+08\n",
            "LightGBM fitting and predicting completed\n",
            "Optuna may run 6299999924.63633 secs\n"
          ],
          "name": "stdout"
        },
        {
          "output_type": "stream",
          "text": [
            "[2021-07-05 17:16:49,442] (INFO): A new study created in memory with name: no-name-c8e46388-0b59-4f0b-b9c9-3017027a5c26\n"
          ],
          "name": "stderr"
        },
        {
          "output_type": "stream",
          "text": [
            "Start fitting Lvl_0_Pipe_0_Mod_0_LightGBM ...\n",
            "\n",
            "===== Start working with fold 0 for Lvl_0_Pipe_0_Mod_0_LightGBM =====\n",
            "\n",
            "Training until validation scores don't improve for 100 rounds\n",
            "[100]\tvalid's l2: 1.02111e+09\n",
            "Early stopping, best iteration is:\n",
            "[6]\tvalid's l2: 2.76213e+08\n",
            "Lvl_0_Pipe_0_Mod_0_LightGBM fitting and predicting completed\n"
          ],
          "name": "stdout"
        },
        {
          "output_type": "stream",
          "text": [
            "[2021-07-05 17:16:55,642] (INFO): Trial 0 finished with value: -276213249.4083571 and parameters: {'feature_fraction': 0.6872700594236812, 'num_leaves': 244}. Best is trial 0 with value: -276213249.4083571.\n"
          ],
          "name": "stderr"
        },
        {
          "output_type": "stream",
          "text": [
            "Start fitting Lvl_0_Pipe_0_Mod_0_LightGBM ...\n",
            "\n",
            "===== Start working with fold 0 for Lvl_0_Pipe_0_Mod_0_LightGBM =====\n",
            "\n",
            "Training until validation scores don't improve for 100 rounds\n",
            "[100]\tvalid's l2: 1.16717e+09\n",
            "Early stopping, best iteration is:\n",
            "[6]\tvalid's l2: 2.67517e+08\n",
            "Lvl_0_Pipe_0_Mod_0_LightGBM fitting and predicting completed\n"
          ],
          "name": "stdout"
        },
        {
          "output_type": "stream",
          "text": [
            "[2021-07-05 17:17:00,171] (INFO): Trial 1 finished with value: -267517008.13860056 and parameters: {'feature_fraction': 0.8659969709057025, 'num_leaves': 159}. Best is trial 1 with value: -267517008.13860056.\n"
          ],
          "name": "stderr"
        },
        {
          "output_type": "stream",
          "text": [
            "Start fitting Lvl_0_Pipe_0_Mod_0_LightGBM ...\n",
            "\n",
            "===== Start working with fold 0 for Lvl_0_Pipe_0_Mod_0_LightGBM =====\n",
            "\n",
            "Training until validation scores don't improve for 100 rounds\n",
            "[100]\tvalid's l2: 1.19233e+09\n",
            "Early stopping, best iteration is:\n",
            "[10]\tvalid's l2: 2.77683e+08\n",
            "Lvl_0_Pipe_0_Mod_0_LightGBM fitting and predicting completed\n"
          ],
          "name": "stdout"
        },
        {
          "output_type": "stream",
          "text": [
            "[2021-07-05 17:17:01,897] (INFO): Trial 2 finished with value: -277682818.11794716 and parameters: {'feature_fraction': 0.5780093202212182, 'num_leaves': 53}. Best is trial 1 with value: -267517008.13860056.\n"
          ],
          "name": "stderr"
        },
        {
          "output_type": "stream",
          "text": [
            "Start fitting Lvl_0_Pipe_0_Mod_0_LightGBM ...\n",
            "\n",
            "===== Start working with fold 0 for Lvl_0_Pipe_0_Mod_0_LightGBM =====\n",
            "\n",
            "Training until validation scores don't improve for 100 rounds\n",
            "[100]\tvalid's l2: 1.19775e+09\n",
            "Early stopping, best iteration is:\n",
            "[10]\tvalid's l2: 2.83361e+08\n",
            "Lvl_0_Pipe_0_Mod_0_LightGBM fitting and predicting completed\n"
          ],
          "name": "stdout"
        },
        {
          "output_type": "stream",
          "text": [
            "[2021-07-05 17:17:07,585] (INFO): Trial 3 finished with value: -283361319.05608135 and parameters: {'feature_fraction': 0.5290418060840998, 'num_leaves': 223}. Best is trial 1 with value: -267517008.13860056.\n"
          ],
          "name": "stderr"
        },
        {
          "output_type": "stream",
          "text": [
            "Start fitting Lvl_0_Pipe_0_Mod_0_LightGBM ...\n",
            "\n",
            "===== Start working with fold 0 for Lvl_0_Pipe_0_Mod_0_LightGBM =====\n",
            "\n",
            "Training until validation scores don't improve for 100 rounds\n",
            "[100]\tvalid's l2: 9.98774e+08\n",
            "Early stopping, best iteration is:\n",
            "[6]\tvalid's l2: 2.71069e+08\n",
            "Lvl_0_Pipe_0_Mod_0_LightGBM fitting and predicting completed\n"
          ],
          "name": "stdout"
        },
        {
          "output_type": "stream",
          "text": [
            "[2021-07-05 17:17:12,674] (INFO): Trial 4 finished with value: -271069142.8539897 and parameters: {'feature_fraction': 0.8005575058716043, 'num_leaves': 185}. Best is trial 1 with value: -267517008.13860056.\n"
          ],
          "name": "stderr"
        },
        {
          "output_type": "stream",
          "text": [
            "Start fitting Lvl_0_Pipe_0_Mod_0_LightGBM ...\n",
            "\n",
            "===== Start working with fold 0 for Lvl_0_Pipe_0_Mod_0_LightGBM =====\n",
            "\n",
            "Training until validation scores don't improve for 100 rounds\n",
            "[100]\tvalid's l2: 1.16412e+09\n",
            "Early stopping, best iteration is:\n",
            "[10]\tvalid's l2: 2.83155e+08\n",
            "Lvl_0_Pipe_0_Mod_0_LightGBM fitting and predicting completed\n"
          ],
          "name": "stdout"
        },
        {
          "output_type": "stream",
          "text": [
            "[2021-07-05 17:17:18,945] (INFO): Trial 5 finished with value: -283154711.8320421 and parameters: {'feature_fraction': 0.5102922471479012, 'num_leaves': 248}. Best is trial 1 with value: -267517008.13860056.\n"
          ],
          "name": "stderr"
        },
        {
          "output_type": "stream",
          "text": [
            "Start fitting Lvl_0_Pipe_0_Mod_0_LightGBM ...\n",
            "\n",
            "===== Start working with fold 0 for Lvl_0_Pipe_0_Mod_0_LightGBM =====\n",
            "\n",
            "Training until validation scores don't improve for 100 rounds\n",
            "[100]\tvalid's l2: 1.14475e+09\n",
            "Early stopping, best iteration is:\n",
            "[6]\tvalid's l2: 2.6202e+08\n",
            "Lvl_0_Pipe_0_Mod_0_LightGBM fitting and predicting completed\n"
          ],
          "name": "stdout"
        },
        {
          "output_type": "stream",
          "text": [
            "[2021-07-05 17:17:21,188] (INFO): Trial 6 finished with value: -262019646.9870119 and parameters: {'feature_fraction': 0.9162213204002109, 'num_leaves': 66}. Best is trial 6 with value: -262019646.9870119.\n"
          ],
          "name": "stderr"
        },
        {
          "output_type": "stream",
          "text": [
            "Start fitting Lvl_0_Pipe_0_Mod_0_LightGBM ...\n",
            "\n",
            "===== Start working with fold 0 for Lvl_0_Pipe_0_Mod_0_LightGBM =====\n",
            "\n",
            "Training until validation scores don't improve for 100 rounds\n",
            "[100]\tvalid's l2: 1.14475e+09\n",
            "Early stopping, best iteration is:\n",
            "[6]\tvalid's l2: 2.6202e+08\n",
            "\n",
            "===== Start working with fold 1 for Lvl_0_Pipe_0_Mod_0_LightGBM =====\n",
            "\n",
            "Training until validation scores don't improve for 100 rounds\n",
            "[100]\tvalid's l2: 1.56507e+09\n",
            "Early stopping, best iteration is:\n",
            "[4]\tvalid's l2: 3.88503e+08\n",
            "\n",
            "===== Start working with fold 2 for Lvl_0_Pipe_0_Mod_0_LightGBM =====\n",
            "\n",
            "Training until validation scores don't improve for 100 rounds\n",
            "[100]\tvalid's l2: 1.80083e+11\n",
            "[200]\tvalid's l2: 1.80079e+11\n",
            "Early stopping, best iteration is:\n",
            "[177]\tvalid's l2: 1.80074e+11\n",
            "\n",
            "===== Start working with fold 3 for Lvl_0_Pipe_0_Mod_0_LightGBM =====\n",
            "\n",
            "Training until validation scores don't improve for 100 rounds\n",
            "[100]\tvalid's l2: 4.57496e+08\n",
            "Early stopping, best iteration is:\n",
            "[37]\tvalid's l2: 2.1154e+08\n",
            "\n",
            "===== Start working with fold 4 for Lvl_0_Pipe_0_Mod_0_LightGBM =====\n",
            "\n",
            "Training until validation scores don't improve for 100 rounds\n",
            "[100]\tvalid's l2: 1.09186e+09\n",
            "Early stopping, best iteration is:\n",
            "[4]\tvalid's l2: 2.92152e+08\n",
            "Lvl_0_Pipe_0_Mod_0_LightGBM fitting and predicting completed\n",
            "Start fitting Lvl_0_Pipe_0_Mod_1_LightGBM ...\n",
            "\n",
            "===== Start working with fold 0 for Lvl_0_Pipe_0_Mod_1_LightGBM =====\n",
            "\n",
            "Training until validation scores don't improve for 100 rounds\n",
            "[100]\tvalid's l2: 6.73746e+08\n",
            "Early stopping, best iteration is:\n",
            "[15]\tvalid's l2: 2.68914e+08\n",
            "\n",
            "===== Start working with fold 1 for Lvl_0_Pipe_0_Mod_1_LightGBM =====\n",
            "\n",
            "Training until validation scores don't improve for 100 rounds\n",
            "[100]\tvalid's l2: 7.93521e+08\n",
            "Early stopping, best iteration is:\n",
            "[21]\tvalid's l2: 3.53637e+08\n",
            "\n",
            "===== Start working with fold 2 for Lvl_0_Pipe_0_Mod_1_LightGBM =====\n",
            "\n",
            "Training until validation scores don't improve for 100 rounds\n",
            "[100]\tvalid's l2: 1.80089e+11\n",
            "[200]\tvalid's l2: 1.80074e+11\n",
            "[300]\tvalid's l2: 1.80063e+11\n",
            "[400]\tvalid's l2: 1.80061e+11\n",
            "Early stopping, best iteration is:\n",
            "[373]\tvalid's l2: 1.8006e+11\n",
            "\n",
            "===== Start working with fold 3 for Lvl_0_Pipe_0_Mod_1_LightGBM =====\n",
            "\n",
            "Training until validation scores don't improve for 100 rounds\n",
            "[100]\tvalid's l2: 3.81108e+08\n",
            "Early stopping, best iteration is:\n",
            "[23]\tvalid's l2: 2.35415e+08\n",
            "\n",
            "===== Start working with fold 4 for Lvl_0_Pipe_0_Mod_1_LightGBM =====\n",
            "\n",
            "Training until validation scores don't improve for 100 rounds\n",
            "[100]\tvalid's l2: 6.79653e+08\n",
            "Early stopping, best iteration is:\n",
            "[10]\tvalid's l2: 3.00462e+08\n",
            "Lvl_0_Pipe_0_Mod_1_LightGBM fitting and predicting completed\n",
            "Time left 9999999917.916174\n",
            "Layer 1 training completed.\n",
            "\n",
            "\n",
            "Layer 2 ...\n",
            "Train process start. Time left 9999999917.900272 secs\n",
            "Start fitting Lvl_1_Pipe_0_Mod_0_LightGBM ...\n",
            "\n",
            "===== Start working with fold 0 for Lvl_1_Pipe_0_Mod_0_LightGBM =====\n",
            "\n",
            "Training until validation scores don't improve for 100 rounds\n",
            "[100]\tvalid's l2: 2.04722e+08\n",
            "Early stopping, best iteration is:\n",
            "[69]\tvalid's l2: 2.02236e+08\n",
            "\n",
            "===== Start working with fold 1 for Lvl_1_Pipe_0_Mod_0_LightGBM =====\n",
            "\n",
            "Training until validation scores don't improve for 100 rounds\n",
            "[100]\tvalid's l2: 2.7527e+08\n",
            "Early stopping, best iteration is:\n",
            "[73]\tvalid's l2: 2.71591e+08\n",
            "\n",
            "===== Start working with fold 2 for Lvl_1_Pipe_0_Mod_0_LightGBM =====\n",
            "\n",
            "Training until validation scores don't improve for 100 rounds\n",
            "[100]\tvalid's l2: 1.80655e+11\n",
            "Early stopping, best iteration is:\n",
            "[5]\tvalid's l2: 1.80215e+11\n",
            "\n",
            "===== Start working with fold 3 for Lvl_1_Pipe_0_Mod_0_LightGBM =====\n",
            "\n",
            "Training until validation scores don't improve for 100 rounds\n",
            "[100]\tvalid's l2: 5.75317e+09\n",
            "Early stopping, best iteration is:\n",
            "[1]\tvalid's l2: 4.21833e+08\n",
            "\n",
            "===== Start working with fold 4 for Lvl_1_Pipe_0_Mod_0_LightGBM =====\n",
            "\n",
            "Training until validation scores don't improve for 100 rounds\n",
            "[100]\tvalid's l2: 2.23755e+08\n",
            "Early stopping, best iteration is:\n",
            "[93]\tvalid's l2: 2.2348e+08\n",
            "Lvl_1_Pipe_0_Mod_0_LightGBM fitting and predicting completed\n",
            "Time left 9999999904.689941\n"
          ],
          "name": "stdout"
        },
        {
          "output_type": "stream",
          "text": [
            "[2021-07-05 17:18:07,477] (INFO): oof_pred:\n",
            "array([[14421.67  ],\n",
            "       [19000.137 ],\n",
            "       [18672.191 ],\n",
            "       ...,\n",
            "       [20077.592 ],\n",
            "       [14652.22  ],\n",
            "       [13730.8545]], dtype=float32)\n",
            "Shape = (19237, 1)\n"
          ],
          "name": "stderr"
        },
        {
          "output_type": "stream",
          "text": [
            "CPU times: user 1min 15s, sys: 55.1 s, total: 2min 10s\n",
            "Wall time: 1min 35s\n"
          ],
          "name": "stdout"
        }
      ]
    },
    {
      "cell_type": "code",
      "metadata": {
        "colab": {
          "base_uri": "https://localhost:8080/"
        },
        "id": "U9zwtBcXrD8T",
        "outputId": "d61b47cb-ee84-473d-b7b4-d7aa9e0e68b7"
      },
      "source": [
        "\n",
        "logging.info('Feature importances of selector:\\n{}'\n",
        "              .format(selector.get_features_score()))\n",
        "logging.info('=' * 70)\n",
        "\n",
        "logging.info('Feature importances of top level algorithm:\\n{}'\n",
        "              .format(automl.levels[-1][0].ml_algos[0].get_features_score()))\n",
        "logging.info('=' * 70)\n",
        "\n",
        "logging.info('Feature importances of lowest level algorithm - model 0:\\n{}'\n",
        "              .format(automl.levels[0][0].ml_algos[0].get_features_score()))\n",
        "logging.info('=' * 70)\n",
        "\n",
        "logging.info('Feature importances of lowest level algorithm - model 1:\\n{}'\n",
        "              .format(automl.levels[0][0].ml_algos[1].get_features_score()))\n",
        "logging.info('=' * 70)"
      ],
      "execution_count": 21,
      "outputs": [
        {
          "output_type": "stream",
          "text": [
            "[2021-07-05 17:19:24,031] (INFO): Feature importances of selector:\n",
            "ID                  3.117552e+13\n",
            "Airbags             2.993246e+13\n",
            "Model               2.306856e+13\n",
            "Prod. year          2.090044e+13\n",
            "Manufacturer        1.825860e+13\n",
            "Category            3.163031e+12\n",
            "Doors               1.287250e+12\n",
            "Engine volume       1.033921e+12\n",
            "Cylinders           7.403429e+11\n",
            "Fuel type           6.837601e+11\n",
            "Levy                6.792232e+11\n",
            "Gear box type       5.075618e+11\n",
            "Drive wheels        2.877067e+11\n",
            "Leather interior    2.121734e+11\n",
            "Color               1.081874e+11\n",
            "Mileage             7.502334e+10\n",
            "Wheel               2.906446e+10\n",
            "dtype: float64\n",
            "[2021-07-05 17:19:24,033] (INFO): ======================================================================\n",
            "[2021-07-05 17:19:24,039] (INFO): Feature importances of top level algorithm:\n",
            "Lvl_0_Pipe_0_Mod_1_LightGBM_prediction_0    3.216884e+14\n",
            "Lvl_0_Pipe_0_Mod_0_LightGBM_prediction_0    3.206134e+14\n",
            "dtype: float64\n",
            "[2021-07-05 17:19:24,043] (INFO): ======================================================================\n",
            "[2021-07-05 17:19:24,048] (INFO): Feature importances of lowest level algorithm - model 0:\n",
            "ord__ID                  6.232138e+13\n",
            "Airbags                  4.903580e+13\n",
            "ord__Manufacturer        1.688461e+13\n",
            "ord__Model               1.605395e+13\n",
            "ord__Mileage             1.219968e+13\n",
            "Prod. year               9.589064e+12\n",
            "ord__Color               7.651074e+12\n",
            "ord__Engine volume       6.797628e+12\n",
            "ord__Category            4.659066e+12\n",
            "ord__Doors               2.996063e+12\n",
            "ord__Gear box type       1.417174e+12\n",
            "ord__Fuel type           1.250751e+12\n",
            "ord__Levy                1.232395e+12\n",
            "ord__Cylinders           9.223871e+11\n",
            "ord__Drive wheels        3.791900e+11\n",
            "ord__Leather interior    1.392574e+11\n",
            "ord__Wheel               4.031221e+10\n",
            "dtype: float64\n",
            "[2021-07-05 17:19:24,050] (INFO): ======================================================================\n",
            "[2021-07-05 17:19:24,057] (INFO): Feature importances of lowest level algorithm - model 1:\n",
            "ord__ID                  7.593375e+13\n",
            "Airbags                  5.318505e+13\n",
            "ord__Mileage             2.737286e+13\n",
            "ord__Engine volume       2.650431e+13\n",
            "ord__Manufacturer        1.667153e+13\n",
            "ord__Fuel type           1.163215e+13\n",
            "Prod. year               1.129580e+13\n",
            "ord__Model               6.851503e+12\n",
            "ord__Category            6.804784e+12\n",
            "ord__Color               4.370326e+12\n",
            "ord__Leather interior    4.285048e+12\n",
            "ord__Doors               3.698345e+12\n",
            "ord__Levy                2.556198e+12\n",
            "ord__Gear box type       2.167564e+12\n",
            "ord__Cylinders           1.576446e+12\n",
            "ord__Drive wheels        6.740246e+11\n",
            "ord__Wheel               1.310299e+11\n",
            "dtype: float64\n",
            "[2021-07-05 17:19:24,060] (INFO): ======================================================================\n"
          ],
          "name": "stderr"
        }
      ]
    },
    {
      "cell_type": "code",
      "metadata": {
        "colab": {
          "base_uri": "https://localhost:8080/",
          "height": 204
        },
        "id": "aHGLAKMIrEJW",
        "outputId": "624b1193-f626-446e-cb9e-f53a37cd18be"
      },
      "source": [
        "test_df = pd.read_csv('/content/drive/MyDrive/test.csv')\n",
        "test_pred = automl.predict(test_df)\n",
        "\n",
        "result = pd.DataFrame(test_pred.data,columns=['Price'])\n",
        "\n",
        "result.head()"
      ],
      "execution_count": 30,
      "outputs": [
        {
          "output_type": "execute_result",
          "data": {
            "text/html": [
              "<div>\n",
              "<style scoped>\n",
              "    .dataframe tbody tr th:only-of-type {\n",
              "        vertical-align: middle;\n",
              "    }\n",
              "\n",
              "    .dataframe tbody tr th {\n",
              "        vertical-align: top;\n",
              "    }\n",
              "\n",
              "    .dataframe thead th {\n",
              "        text-align: right;\n",
              "    }\n",
              "</style>\n",
              "<table border=\"1\" class=\"dataframe\">\n",
              "  <thead>\n",
              "    <tr style=\"text-align: right;\">\n",
              "      <th></th>\n",
              "      <th>Price</th>\n",
              "    </tr>\n",
              "  </thead>\n",
              "  <tbody>\n",
              "    <tr>\n",
              "      <th>0</th>\n",
              "      <td>27456.203125</td>\n",
              "    </tr>\n",
              "    <tr>\n",
              "      <th>1</th>\n",
              "      <td>18047.730469</td>\n",
              "    </tr>\n",
              "    <tr>\n",
              "      <th>2</th>\n",
              "      <td>13680.903320</td>\n",
              "    </tr>\n",
              "    <tr>\n",
              "      <th>3</th>\n",
              "      <td>15476.598633</td>\n",
              "    </tr>\n",
              "    <tr>\n",
              "      <th>4</th>\n",
              "      <td>19969.103516</td>\n",
              "    </tr>\n",
              "  </tbody>\n",
              "</table>\n",
              "</div>"
            ],
            "text/plain": [
              "          Price\n",
              "0  27456.203125\n",
              "1  18047.730469\n",
              "2  13680.903320\n",
              "3  15476.598633\n",
              "4  19969.103516"
            ]
          },
          "metadata": {
            "tags": []
          },
          "execution_count": 30
        }
      ]
    },
    {
      "cell_type": "code",
      "metadata": {
        "id": "RcDtSeBIrKfA"
      },
      "source": [
        "result.to_csv('result9.csv',index=False)"
      ],
      "execution_count": 31,
      "outputs": []
    },
    {
      "cell_type": "code",
      "metadata": {
        "id": "q7jzDJOArKhw"
      },
      "source": [
        ""
      ],
      "execution_count": null,
      "outputs": []
    },
    {
      "cell_type": "code",
      "metadata": {
        "id": "fsz5jErgrKks"
      },
      "source": [
        ""
      ],
      "execution_count": null,
      "outputs": []
    }
  ]
}